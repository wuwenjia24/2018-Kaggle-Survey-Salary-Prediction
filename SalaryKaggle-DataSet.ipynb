{
 "cells": [
  {
   "cell_type": "markdown",
   "metadata": {},
   "source": [
    "## Creating DataSet"
   ]
  },
  {
   "cell_type": "code",
   "execution_count": 33,
   "metadata": {
    "collapsed": true
   },
   "outputs": [],
   "source": [
    "import pandas as pd\n",
    "Salaries = pd.read_csv(\"multipleChoiceResponses.csv\", low_memory = False)"
   ]
  },
  {
   "cell_type": "markdown",
   "metadata": {},
   "source": [
    "### 1. Drop rows missing target variable"
   ]
  },
  {
   "cell_type": "code",
   "execution_count": 34,
   "metadata": {
    "collapsed": true
   },
   "outputs": [],
   "source": [
    "Salaries.dropna(subset=['Q9'],inplace=True) "
   ]
  },
  {
   "cell_type": "code",
   "execution_count": 8,
   "metadata": {},
   "outputs": [
    {
     "data": {
      "text/plain": [
       "array(['What is your current yearly compensation (approximate $USD)?',\n",
       "       '10-20,000', '0-10,000',\n",
       "       'I do not wish to disclose my approximate yearly compensation',\n",
       "       '20-30,000', '125-150,000', '30-40,000', '50-60,000',\n",
       "       '100-125,000', '90-100,000', '70-80,000', '80-90,000', '60-70,000',\n",
       "       '400-500,000', '40-50,000', '150-200,000', '500,000+',\n",
       "       '300-400,000', '200-250,000', '250-300,000'], dtype=object)"
      ]
     },
     "execution_count": 8,
     "metadata": {},
     "output_type": "execute_result"
    }
   ],
   "source": [
    "Salaries.Q9.unique() "
   ]
  },
  {
   "cell_type": "markdown",
   "metadata": {},
   "source": [
    "### 2. Remove rows where salary is not disclosed"
   ]
  },
  {
   "cell_type": "code",
   "execution_count": 35,
   "metadata": {
    "collapsed": true
   },
   "outputs": [],
   "source": [
    "Salaries = Salaries[Salaries['Q9']!= \"I do not wish to disclose my approximate yearly compensation\"]"
   ]
  },
  {
   "cell_type": "markdown",
   "metadata": {},
   "source": [
    "### 3. Convert salary bin to numerical"
   ]
  },
  {
   "cell_type": "code",
   "execution_count": 10,
   "metadata": {
    "collapsed": true
   },
   "outputs": [],
   "source": [
    "def convert_salary(srange):\n",
    "    srange = str(srange)\n",
    "    if srange == '0-10,000':\n",
    "        salary = randint(0,10000)\n",
    "    elif srange == '10-20,000':\n",
    "        salary = randint(10000,20000)\n",
    "    elif srange == '20-30,000':\n",
    "        salary = randint(20000,30000)\n",
    "    elif srange == '30-40,000':\n",
    "        salary = randint(30000,40000)\n",
    "    elif srange == '40-50,000':\n",
    "        salary = randint(40000,50000)\n",
    "    elif srange == '50-60,000':\n",
    "        salary = randint(50000,60000)\n",
    "    elif srange == '60-70,000':\n",
    "        salary = randint(60000,70000)\n",
    "    elif srange == '70-80,000':\n",
    "        salary = randint(70000,80000)\n",
    "    elif srange == '80-90,000':\n",
    "        salary = randint(80000,90000)\n",
    "    elif srange == '90-100,000':\n",
    "        salary = randint(90000,100000)\n",
    "    elif srange == '100-125,000':\n",
    "        salary = randint(100000,125000)\n",
    "    elif srange == '125-150,000':\n",
    "        salary = randint(125000,150000)\n",
    "    elif srange == '150-200,000':\n",
    "        salary = randint(150000,200000)\n",
    "    elif srange == '200-250,000':\n",
    "        salary = randint(200000,250000)\n",
    "    elif srange == '250-300,000':\n",
    "        salary = randint(250000,300000)\n",
    "    elif srange == '300-400,000':\n",
    "        salary = randint(300000,400000)\n",
    "    elif srange == '400-500,000':\n",
    "        salary = randint(400000,500000)\n",
    "    elif srange == '500,000+':\n",
    "        salary = 500000\n",
    "    return salary"
   ]
  },
  {
   "cell_type": "code",
   "execution_count": 44,
   "metadata": {
    "collapsed": true
   },
   "outputs": [],
   "source": [
    "Salaries.loc[1:,'Q9'] = Salaries.loc[1:,'Q9'].apply(convert_salary)"
   ]
  },
  {
   "cell_type": "code",
   "execution_count": 54,
   "metadata": {
    "collapsed": true
   },
   "outputs": [],
   "source": [
    "Salaries.loc[1:,'index'] = Salaries[1:].reset_index().index"
   ]
  },
  {
   "cell_type": "code",
   "execution_count": 56,
   "metadata": {
    "collapsed": true
   },
   "outputs": [],
   "source": [
    "Salaries.to_csv(\"Kaggle_Salary.csv\")"
   ]
  }
 ],
 "metadata": {
  "kernelspec": {
   "display_name": "Python 3",
   "language": "python",
   "name": "python3"
  },
  "language_info": {
   "codemirror_mode": {
    "name": "ipython",
    "version": 3
   },
   "file_extension": ".py",
   "mimetype": "text/x-python",
   "name": "python",
   "nbconvert_exporter": "python",
   "pygments_lexer": "ipython3",
   "version": "3.7.1"
  },
  "widgets": {
   "state": {},
   "version": "1.1.2"
  }
 },
 "nbformat": 4,
 "nbformat_minor": 2
}
